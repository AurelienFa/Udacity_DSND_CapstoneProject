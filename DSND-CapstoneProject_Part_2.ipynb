{
 "cells": [
  {
   "cell_type": "markdown",
   "metadata": {},
   "source": [
    "## 2nd Section: Selection of a machine learning algorithm\n",
    "\n",
    "For memory reasons, I need to split Notebooks.\n",
    "In this one I will only treat the selection of a classifier algorithm, in the next one it will be about optimizing and testing it agains the test set."
   ]
  },
  {
   "cell_type": "markdown",
   "metadata": {},
   "source": [
    "### Import libraries"
   ]
  },
  {
   "cell_type": "code",
   "execution_count": 1,
   "metadata": {},
   "outputs": [],
   "source": [
    "# Basic libraries\n",
    "import numpy as np\n",
    "import pandas as pd\n",
    "import matplotlib.pyplot as plt"
   ]
  },
  {
   "cell_type": "code",
   "execution_count": 2,
   "metadata": {},
   "outputs": [],
   "source": [
    "# Additional libraries\n",
    "from sklearn.model_selection import train_test_split\n",
    "from sklearn.pipeline import Pipeline\n",
    "from sklearn.ensemble import RandomForestClassifier\n",
    "from sklearn.metrics import accuracy_score\n",
    "from sklearn.metrics import precision_recall_fscore_support\n",
    "from sklearn.metrics import accuracy_score\n",
    "from sklearn.tree import DecisionTreeClassifier\n",
    "from sklearn.ensemble import RandomForestClassifier, AdaBoostClassifier, GradientBoostingClassifier\n",
    "from sklearn.naive_bayes import GaussianNB\n",
    "from sklearn.discriminant_analysis import LinearDiscriminantAnalysis\n",
    "from sklearn.metrics import precision_score\n",
    "from sklearn.preprocessing import StandardScaler\n",
    "from sklearn.model_selection import GridSearchCV\n",
    "\n",
    "import seaborn as sns"
   ]
  },
  {
   "cell_type": "code",
   "execution_count": 3,
   "metadata": {},
   "outputs": [],
   "source": [
    "import warnings\n",
    "warnings.filterwarnings(\"ignore\")\n",
    "\n",
    "import time"
   ]
  },
  {
   "cell_type": "markdown",
   "metadata": {},
   "source": [
    "### Part 3: Machine learning pipeline\n",
    "\n",
    "For this section I will use the 2017 file to train (and test) the model. Ideally I can then use the model on the 2018 data and predict companies going out of business before having the results (and hence test my model by contacting directly companies and try it out !)"
   ]
  },
  {
   "cell_type": "markdown",
   "metadata": {},
   "source": [
    "#### 3.1 Load dataset and perform one transformation"
   ]
  },
  {
   "cell_type": "code",
   "execution_count": 4,
   "metadata": {},
   "outputs": [],
   "source": [
    "## Quick function to load the data and make the few transformations\n",
    "def load_transform(filepath):\n",
    "    '''\n",
    "    Quick function to load the data and drop one column\n",
    "    INPUT:\n",
    "    filepath of data to be loaded\n",
    "    OUTPUT:\n",
    "    dataframe ready for ML Pipeline\n",
    "        '''\n",
    "    \n",
    "    # load dataframe\n",
    "    df = pd.read_csv(filepath, sep = \";\")\n",
    "    \n",
    "    # drop column coming from saving date\n",
    "    df.drop(\"Unnamed: 0\", axis = 1, inplace = True)\n",
    "    \n",
    "    return df"
   ]
  },
  {
   "cell_type": "code",
   "execution_count": 5,
   "metadata": {},
   "outputs": [],
   "source": [
    "# Load 2017 data\n",
    "df = load_transform(\"cleaned_data_2017.csv\")"
   ]
  },
  {
   "cell_type": "markdown",
   "metadata": {},
   "source": [
    "#### 3.2 Prepare X, y as well as training and testing set"
   ]
  },
  {
   "cell_type": "code",
   "execution_count": 6,
   "metadata": {},
   "outputs": [],
   "source": [
    "# Function to prepare training and testing set\n",
    "def prep_train_test(df, test_size = 0.25):\n",
    "    '''\n",
    "    Extract X and y, Split data into training and testing set\n",
    "    INPUT:\n",
    "    df: dataframe\n",
    "    test_size (float): share of testing set \n",
    "    OUTPUT:\n",
    "    X_train, X_test, y_train, y_test\n",
    "    '''\n",
    "    \n",
    "    # Extract X and y\n",
    "    y = df['rad'].values\n",
    "    X = df.drop(['rad', 'siren'], axis = 1).values\n",
    "    \n",
    "    # Split training and testing set\n",
    "    X_train, X_test, y_train, y_test = train_test_split(X, y, test_size = test_size, random_state = 1)\n",
    "    \n",
    "    return X_train, X_test, y_train, y_test\n",
    "    "
   ]
  },
  {
   "cell_type": "code",
   "execution_count": 7,
   "metadata": {},
   "outputs": [],
   "source": [
    "# Prepare training and testing set\n",
    "X_train, X_test, y_train, y_test = prep_train_test(df)"
   ]
  },
  {
   "cell_type": "markdown",
   "metadata": {},
   "source": [
    "#### 3.3 Model selection\n",
    "\n",
    "Using a function to run over different classifiers, I will test which algorithm looks the best for this particular task"
   ]
  },
  {
   "cell_type": "code",
   "execution_count": 9,
   "metadata": {},
   "outputs": [],
   "source": [
    "# Write a function to test different classifiers to see which one works best in our case\n",
    "\n",
    "def train_evaluate_model(X_train, y_train):\n",
    "    '''\n",
    "    Function to test various classifiers and get best one\n",
    "    INPUT:\n",
    "    X_train, y_train: data to be trained on\n",
    "    OUTPUT:\n",
    "    Name of best classifier and performance (accuracy and precision)\n",
    "\n",
    "    '''\n",
    "    \n",
    "    # Fist scale data before training\n",
    "    scale = StandardScaler().fit(X_train)\n",
    "    X_train_scaled = scale.transform(X_train)\n",
    "    X_test_scaled = scale.transform(X_test)\n",
    "\n",
    "    # Define classifiers to be tested\n",
    "    classifiers = [\n",
    "        RandomForestClassifier(),\n",
    "        DecisionTreeClassifier(),\n",
    "        AdaBoostClassifier(),\n",
    "        GradientBoostingClassifier(),\n",
    "        GaussianNB(),\n",
    "        LinearDiscriminantAnalysis()\n",
    "    ]\n",
    "\n",
    "    # Logging for Visual Comparison\n",
    "    log_cols=[\"Classifier\", \"Accuracy\", \"Precision\", \"Training_time\"]\n",
    "    log = pd.DataFrame(columns=log_cols)\n",
    "\n",
    "    # Loop through the classifiers, train and show performance on training set\n",
    "    for clf in classifiers:\n",
    "\n",
    "        print(\"=\"*30) # separator\n",
    "        \n",
    "        # Get and print name of classifier being tested\n",
    "        name = clf.__class__.__name__\n",
    "        print(name)\n",
    "\n",
    "        # Train classifier\n",
    "        start = time.time()\n",
    "        clf.fit(X_train_scaled, y_train)\n",
    "        training_time = time.time() - start\n",
    "\n",
    "        # Display results\n",
    "        print('****Results****')\n",
    "        \n",
    "        train_predictions = clf.predict(X_test_scaled) # predict on test set\n",
    "        \n",
    "        acc = accuracy_score(y_test, train_predictions)\n",
    "        print(\"Accuracy: {:.4%}\".format(acc))\n",
    "\n",
    "        prec = precision_score(y_test, train_predictions)\n",
    "        print(\"Precision: {:.4%}\".format(prec))\n",
    "        \n",
    "        print(\"Training time: \", np.round(training_time,0))\n",
    "\n",
    "        log_entry = pd.DataFrame([[name, acc*100, prec*100, training_time]], columns=log_cols)\n",
    "        log = log.append(log_entry)\n",
    "\n",
    "    print(\"=\"*30)\n",
    "    \n",
    "    return log"
   ]
  },
  {
   "cell_type": "code",
   "execution_count": 10,
   "metadata": {},
   "outputs": [
    {
     "name": "stdout",
     "output_type": "stream",
     "text": [
      "==============================\n",
      "RandomForestClassifier\n",
      "****Results****\n",
      "Accuracy: 97.4068%\n",
      "Precision: 10.4167%\n",
      "Training time:  108.0\n",
      "==============================\n",
      "DecisionTreeClassifier\n",
      "****Results****\n",
      "Accuracy: 95.2959%\n",
      "Precision: 4.0473%\n",
      "Training time:  137.0\n",
      "==============================\n",
      "AdaBoostClassifier\n",
      "****Results****\n",
      "Accuracy: 97.6510%\n",
      "Precision: 0.0000%\n",
      "Training time:  229.0\n",
      "==============================\n",
      "GradientBoostingClassifier\n",
      "****Results****\n",
      "Accuracy: 97.6468%\n",
      "Precision: 0.0000%\n",
      "Training time:  750.0\n",
      "==============================\n",
      "GaussianNB\n",
      "****Results****\n",
      "Accuracy: 4.6710%\n",
      "Precision: 2.3722%\n",
      "Training time:  4.0\n",
      "==============================\n",
      "LinearDiscriminantAnalysis\n",
      "****Results****\n",
      "Accuracy: 97.6510%\n",
      "Precision: 0.0000%\n",
      "Training time:  41.0\n",
      "==============================\n"
     ]
    }
   ],
   "source": [
    "# Run function\n",
    "best_model = train_evaluate_model(X_train, y_train)"
   ]
  },
  {
   "cell_type": "code",
   "execution_count": 31,
   "metadata": {},
   "outputs": [
    {
     "name": "stdout",
     "output_type": "stream",
     "text": [
      "Basic accuracy without model on the training set: 97.633 %\n",
      "Basic precision without model on the training set: 2.367 %\n"
     ]
    }
   ],
   "source": [
    "# Compute basis performance\n",
    "acc_basis = 1-y_train.mean()\n",
    "prec_basis = 1-acc_basis\n",
    "print(\"Basic accuracy without model on the training set: {} %\".format(np.round(acc_basis * 100,3)))\n",
    "print(\"Basic precision without model on the training set: {} %\".format(np.round(prec_basis * 100,3)))"
   ]
  },
  {
   "cell_type": "code",
   "execution_count": 40,
   "metadata": {
    "scrolled": false
   },
   "outputs": [
    {
     "data": {
      "image/png": "[encoded data removed]",
      "text/plain": [
       "<Figure size 432x288 with 1 Axes>"
      ]
     },
     "metadata": {
      "needs_background": "light"
     },
     "output_type": "display_data"
    },
    {
     "data": {
      "image/png": "[encoded data removed]",
      "text/plain": [
       "<Figure size 432x288 with 1 Axes>"
      ]
     },
     "metadata": {
      "needs_background": "light"
     },
     "output_type": "display_data"
    },
    {
     "data": {
      "image/png": "[encoded data removed]",
      "text/plain": [
       "<Figure size 432x288 with 1 Axes>"
      ]
     },
     "metadata": {
      "needs_background": "light"
     },
     "output_type": "display_data"
    }
   ],
   "source": [
    "# Show performance graphically\n",
    "sns.set_color_codes(\"muted\")\n",
    "sns.barplot(x='Accuracy', y='Classifier', data=best_model, color=\"b\")\n",
    "\n",
    "plt.xlabel('Accuracy %')\n",
    "plt.axvline(x=acc_basis*100,linewidth=3, color = 'r', ls = '--')\n",
    "plt.title('Classifier Accuracy')\n",
    "plt.savefig(\"classifier_accuracy.png\", bbox_inches = 'tight')\n",
    "plt.show()\n",
    "\n",
    "sns.set_color_codes(\"muted\")\n",
    "sns.barplot(x='Precision', y='Classifier', data=best_model, color=\"g\")\n",
    "\n",
    "plt.xlabel('Precision')\n",
    "plt.axvline(x=prec_basis*100,linewidth=3, color = 'r', ls = '--')\n",
    "plt.title('Classifier Precision')\n",
    "plt.savefig(\"classifier_precision.png\", bbox_inches = 'tight')\n",
    "plt.show()\n",
    "\n",
    "sns.set_color_codes(\"muted\")\n",
    "sns.barplot(x='Training_time', y='Classifier', data=best_model, color=\"r\")\n",
    "\n",
    "plt.xlabel('Precision')\n",
    "plt.title('Training Time')\n",
    "plt.savefig(\"classifier_training_time.png\", bbox_inches = 'tight')\n",
    "plt.show()\n"
   ]
  },
  {
   "cell_type": "markdown",
   "metadata": {},
   "source": [
    "**CONCLUSION** \n",
    "\n",
    "Looking at the performance of the tested non-optimized models, the Random forest classifier looks the best model for our purpose as its precision is very high compared to the others (what we are looking for) and ca. 4 times better than an random choice (our so called basic precision).\n",
    "\n",
    "In the next section I will then try to further optimize a random forest classifier using GridSearchCV and finally test it against the testing set."
   ]
  },
  {
   "cell_type": "code",
   "execution_count": null,
   "metadata": {},
   "outputs": [],
   "source": []
  }
 ],
 "metadata": {
  "kernelspec": {
   "display_name": "Python 3",
   "language": "python",
   "name": "python3"
  },
  "language_info": {
   "codemirror_mode": {
    "name": "ipython",
    "version": 3
   },
   "file_extension": ".py",
   "mimetype": "text/x-python",
   "name": "python",
   "nbconvert_exporter": "python",
   "pygments_lexer": "ipython3",
   "version": "3.7.2"
  }
 },
 "nbformat": 4,
 "nbformat_minor": 2
}
