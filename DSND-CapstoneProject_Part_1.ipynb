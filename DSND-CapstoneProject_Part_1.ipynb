{
 "cells": [
  {
   "cell_type": "markdown",
   "metadata": {},
   "source": [
    "# Udacity Nanodegree Program - Data Scientist Capstone Project\n",
    "\n",
    "## Prediction of french companies going out of business using publicly available information\n"
   ]
  },
  {
   "cell_type": "markdown",
   "metadata": {},
   "source": [
    "## Project overview\n",
    "\n",
    "This project is made of essentially of the followig parts:\n",
    "- Part 1: Explore the data to better understand the structure of the data\n",
    "- Part 2: Build an ETL pipeline to get together the information in a form usable for the machine learning pipeline (data processing, feature engineering, ...)\n",
    "- Part 3: Build and test various machine learning models and chose the appropriate one for our project\n",
    "- Part 4: Discuss the results and explore opportunities to go further\n",
    "\n",
    "## Problem statement\n",
    "\n",
    "Every year many thousands of companies go out of business, while some of those might have been able to continue, if the appropriate support (expertise and/or funds) would have been available.\n",
    "\n",
    "I have personally been active in the field of restructuring for almost 10 years, buying and restructuring SMEs in France and in Germany. One problem is to identify those companies before it is too late and if possible spot this opportunity before other competing private equity funds or private investors do.\n",
    "\n",
    "Through this project I want to be able to predict which companies will likely go out of business in 12 to 24 months time. By having a good enough model, one could contact those companies and either propose a restructuring consulting or buy and restructure those. \n",
    "\n",
    "Having found the relevant (public) information for french companies, \n",
    "\n",
    "\n",
    "## Metrics\n",
    "\n",
    "We will see in the Part 1 of the analysis that (fortunately) very few companies go each year ouf of business (a few % of the ones which can be found on public registries). This means that looking for accuracy will not be of much help, and in this case we are rather interested in the precision of our predictions: e.g. that we correctly predict that one company will go in 12 to 24 months out of business. This is particularly important because the process of contacting current company owners to potentially buy their company is extremely time intensive and costly.\n",
    "\n",
    "**The metric to be optimized will be the prediction precision of companies going out of business in 12 to 24 months. Especially I will be looking at predicting those based on information published in 2017 in the official french registries and the companies that went out of business in 2019 (January to October)**"
   ]
  },
  {
   "cell_type": "markdown",
   "metadata": {},
   "source": [
    "## PROJECT"
   ]
  },
  {
   "cell_type": "markdown",
   "metadata": {},
   "source": [
    "### Part 0: Import libraries"
   ]
  },
  {
   "cell_type": "code",
   "execution_count": 1,
   "metadata": {},
   "outputs": [],
   "source": [
    "# Basic libraries\n",
    "import numpy as np\n",
    "import pandas as pd\n",
    "import matplotlib.pyplot as plt"
   ]
  },
  {
   "cell_type": "code",
   "execution_count": 2,
   "metadata": {},
   "outputs": [],
   "source": [
    "# Additional libraries\n"
   ]
  },
  {
   "cell_type": "markdown",
   "metadata": {},
   "source": [
    "### Part 1: Data exploration"
   ]
  },
  {
   "cell_type": "markdown",
   "metadata": {},
   "source": [
    "#### 1.1 Import files\n",
    "\n",
    "Files were previously downloaded from the official site under https://opendata.datainfogreffe.fr/explore/?sort=modified\n",
    "\n",
    "File named \"chiffres-cles-2017.csv\" contains the financial information along with company ones (name, address, type of business, legal form, ...).\n",
    "The file names \"societes-radiees-2019.csv\" contains the list of all companies that were \"delisted\" in 2019 (January til October 2019).\n",
    "\n",
    "Licence information can be found, in French, under (https://www.etalab.gouv.fr/wp-content/uploads/2017/04/ETALAB-Licence-Ouverte-v2.0.pdf). Basically the use of those information is free, one only needs to mention where the data has been used from. "
   ]
  },
  {
   "cell_type": "code",
   "execution_count": 3,
   "metadata": {},
   "outputs": [
    {
     "name": "stderr",
     "output_type": "stream",
     "text": [
      "/Applications/anaconda3/lib/python3.7/site-packages/IPython/core/interactiveshell.py:3044: DtypeWarning: Columns (1,7,15,31) have mixed types. Specify dtype option on import or set low_memory=False.\n",
      "  interactivity=interactivity, compiler=compiler, result=result)\n"
     ]
    }
   ],
   "source": [
    "# Two types of data / information\n",
    "data_2017 = pd.read_csv(\"chiffres-cles-2017.csv\", sep = \";\") ## for the financial information published\n",
    "radiations_2019 = pd.read_csv(\"societes-radiees-2019.csv\", sep = \";\") ## List of companies that were suppressed in 2019 (until End of October 2019)"
   ]
  },
  {
   "cell_type": "markdown",
   "metadata": {},
   "source": [
    "#### 1.2 Explore data / files"
   ]
  },
  {
   "cell_type": "markdown",
   "metadata": {},
   "source": [
    "##### 1.2.1 Financial information\n",
    "\n",
    "This data summarizes the information that was published in the fiscal year ending in 2017 for french companies. This file contains the last 3 fiscal years and some general information about the companies (name, address, ...)."
   ]
  },
  {
   "cell_type": "code",
   "execution_count": 4,
   "metadata": {},
   "outputs": [
    {
     "data": {
      "text/html": [
       "<div>\n",
       "<style scoped>\n",
       "    .dataframe tbody tr th:only-of-type {\n",
       "        vertical-align: middle;\n",
       "    }\n",
       "\n",
       "    .dataframe tbody tr th {\n",
       "        vertical-align: top;\n",
       "    }\n",
       "\n",
       "    .dataframe thead th {\n",
       "        text-align: right;\n",
       "    }\n",
       "</style>\n",
       "<table border=\"1\" class=\"dataframe\">\n",
       "  <thead>\n",
       "    <tr style=\"text-align: right;\">\n",
       "      <th></th>\n",
       "      <th>Dénomination</th>\n",
       "      <th>Siren</th>\n",
       "      <th>Nic</th>\n",
       "      <th>Forme Juridique</th>\n",
       "      <th>Code APE</th>\n",
       "      <th>Libellé APE</th>\n",
       "      <th>Adresse</th>\n",
       "      <th>Code postal</th>\n",
       "      <th>Ville</th>\n",
       "      <th>Num. dept.</th>\n",
       "      <th>...</th>\n",
       "      <th>Millesime 3</th>\n",
       "      <th>Date de cloture exercice 3</th>\n",
       "      <th>Durée 3</th>\n",
       "      <th>CA 3</th>\n",
       "      <th>Résultat 3</th>\n",
       "      <th>Effectif 3</th>\n",
       "      <th>fiche_identite</th>\n",
       "      <th>tranche_ca_millesime_1</th>\n",
       "      <th>tranche_ca_millesime_2</th>\n",
       "      <th>tranche_ca_millesime_3</th>\n",
       "    </tr>\n",
       "  </thead>\n",
       "  <tbody>\n",
       "    <tr>\n",
       "      <th>0</th>\n",
       "      <td>DANPER CONSEIL</td>\n",
       "      <td>431460971</td>\n",
       "      <td>10.0</td>\n",
       "      <td>Societe a responsabilite limitee a associe unique</td>\n",
       "      <td>7022Z</td>\n",
       "      <td>Conseil pour les affaires et autres conseils d...</td>\n",
       "      <td>17 RUE ANDRE LE NOTRE</td>\n",
       "      <td>67206</td>\n",
       "      <td>MITTELHAUSBERGEN</td>\n",
       "      <td>67.0</td>\n",
       "      <td>...</td>\n",
       "      <td>2015</td>\n",
       "      <td>2015-09-30</td>\n",
       "      <td>12.0</td>\n",
       "      <td>88775.0</td>\n",
       "      <td>871.0</td>\n",
       "      <td>NaN</td>\n",
       "      <td>https://www.infogreffe.fr/infogreffe/ficheIden...</td>\n",
       "      <td>NaN</td>\n",
       "      <td>NaN</td>\n",
       "      <td>C entre 82K et 250K</td>\n",
       "    </tr>\n",
       "    <tr>\n",
       "      <th>1</th>\n",
       "      <td>SARL ALIANE</td>\n",
       "      <td>790362081</td>\n",
       "      <td>16.0</td>\n",
       "      <td>Societe a responsabilite limitee</td>\n",
       "      <td>5610A</td>\n",
       "      <td>Restauration traditionnelle</td>\n",
       "      <td>15 RUE FULTON</td>\n",
       "      <td>18000</td>\n",
       "      <td>BOURGES</td>\n",
       "      <td>18.0</td>\n",
       "      <td>...</td>\n",
       "      <td>2015</td>\n",
       "      <td>2015-12-31</td>\n",
       "      <td>12.0</td>\n",
       "      <td>NaN</td>\n",
       "      <td>NaN</td>\n",
       "      <td>NaN</td>\n",
       "      <td>https://www.infogreffe.fr/infogreffe/ficheIden...</td>\n",
       "      <td>NaN</td>\n",
       "      <td>NaN</td>\n",
       "      <td>NaN</td>\n",
       "    </tr>\n",
       "    <tr>\n",
       "      <th>2</th>\n",
       "      <td>ETABLISSEMENTS GOUDY &amp; CIE</td>\n",
       "      <td>397120387</td>\n",
       "      <td>14.0</td>\n",
       "      <td>Societe par actions simplifiee</td>\n",
       "      <td>4621Z</td>\n",
       "      <td>Comm. de gros (comm. interent.) cere., tabac n...</td>\n",
       "      <td>PLACE DE LA MAIRIE</td>\n",
       "      <td>32380</td>\n",
       "      <td>ST CLAR</td>\n",
       "      <td>32.0</td>\n",
       "      <td>...</td>\n",
       "      <td>2015</td>\n",
       "      <td>2015-06-30</td>\n",
       "      <td>12.0</td>\n",
       "      <td>14796337.0</td>\n",
       "      <td>131681.0</td>\n",
       "      <td>13.0</td>\n",
       "      <td>https://www.infogreffe.fr/infogreffe/ficheIden...</td>\n",
       "      <td>E + d 1M</td>\n",
       "      <td>E + d 1M</td>\n",
       "      <td>E + d 1M</td>\n",
       "    </tr>\n",
       "    <tr>\n",
       "      <th>3</th>\n",
       "      <td>SIMARO II</td>\n",
       "      <td>348786336</td>\n",
       "      <td>76.0</td>\n",
       "      <td>Societe a responsabilite limitee</td>\n",
       "      <td>6810Z</td>\n",
       "      <td>Activites des marchands de biens immobiliers</td>\n",
       "      <td>33 A AVENUE JULES CANTINI</td>\n",
       "      <td>13006</td>\n",
       "      <td>MARSEILLE</td>\n",
       "      <td>13.0</td>\n",
       "      <td>...</td>\n",
       "      <td>2015</td>\n",
       "      <td>2015-06-30</td>\n",
       "      <td>12.0</td>\n",
       "      <td>33626.0</td>\n",
       "      <td>9084.0</td>\n",
       "      <td>NaN</td>\n",
       "      <td>https://www.infogreffe.fr/infogreffe/ficheIden...</td>\n",
       "      <td>NaN</td>\n",
       "      <td>NaN</td>\n",
       "      <td>B entre 32K et 82K</td>\n",
       "    </tr>\n",
       "    <tr>\n",
       "      <th>4</th>\n",
       "      <td>HOMAGECO</td>\n",
       "      <td>815206537</td>\n",
       "      <td>12.0</td>\n",
       "      <td>Societe a responsabilite limitee a associe unique</td>\n",
       "      <td>7010Z</td>\n",
       "      <td>Activites des sieges sociaux</td>\n",
       "      <td>133 RUE GARIBALDI</td>\n",
       "      <td>69003</td>\n",
       "      <td>LYON</td>\n",
       "      <td>69.0</td>\n",
       "      <td>...</td>\n",
       "      <td>NaN</td>\n",
       "      <td>NaN</td>\n",
       "      <td>NaN</td>\n",
       "      <td>NaN</td>\n",
       "      <td>NaN</td>\n",
       "      <td>NaN</td>\n",
       "      <td>https://www.infogreffe.fr/infogreffe/ficheIden...</td>\n",
       "      <td>B entre 32K et 82K</td>\n",
       "      <td>B entre 32K et 82K</td>\n",
       "      <td>NaN</td>\n",
       "    </tr>\n",
       "  </tbody>\n",
       "</table>\n",
       "<p>5 rows × 41 columns</p>\n",
       "</div>"
      ],
      "text/plain": [
       "                 Dénomination      Siren   Nic  \\\n",
       "0              DANPER CONSEIL  431460971  10.0   \n",
       "1                 SARL ALIANE  790362081  16.0   \n",
       "2  ETABLISSEMENTS GOUDY & CIE  397120387  14.0   \n",
       "3                   SIMARO II  348786336  76.0   \n",
       "4                    HOMAGECO  815206537  12.0   \n",
       "\n",
       "                                     Forme Juridique Code APE  \\\n",
       "0  Societe a responsabilite limitee a associe unique    7022Z   \n",
       "1                   Societe a responsabilite limitee    5610A   \n",
       "2                     Societe par actions simplifiee    4621Z   \n",
       "3                   Societe a responsabilite limitee    6810Z   \n",
       "4  Societe a responsabilite limitee a associe unique    7010Z   \n",
       "\n",
       "                                         Libellé APE  \\\n",
       "0  Conseil pour les affaires et autres conseils d...   \n",
       "1                        Restauration traditionnelle   \n",
       "2  Comm. de gros (comm. interent.) cere., tabac n...   \n",
       "3       Activites des marchands de biens immobiliers   \n",
       "4                       Activites des sieges sociaux   \n",
       "\n",
       "                     Adresse Code postal             Ville  Num. dept.  ...  \\\n",
       "0      17 RUE ANDRE LE NOTRE       67206  MITTELHAUSBERGEN        67.0  ...   \n",
       "1              15 RUE FULTON       18000           BOURGES        18.0  ...   \n",
       "2         PLACE DE LA MAIRIE       32380           ST CLAR        32.0  ...   \n",
       "3  33 A AVENUE JULES CANTINI       13006         MARSEILLE        13.0  ...   \n",
       "4          133 RUE GARIBALDI       69003              LYON        69.0  ...   \n",
       "\n",
       "  Millesime 3 Date de cloture exercice 3  Durée 3        CA 3 Résultat 3  \\\n",
       "0        2015                 2015-09-30     12.0     88775.0      871.0   \n",
       "1        2015                 2015-12-31     12.0         NaN        NaN   \n",
       "2        2015                 2015-06-30     12.0  14796337.0   131681.0   \n",
       "3        2015                 2015-06-30     12.0     33626.0     9084.0   \n",
       "4         NaN                        NaN      NaN         NaN        NaN   \n",
       "\n",
       "  Effectif 3                                     fiche_identite  \\\n",
       "0        NaN  https://www.infogreffe.fr/infogreffe/ficheIden...   \n",
       "1        NaN  https://www.infogreffe.fr/infogreffe/ficheIden...   \n",
       "2       13.0  https://www.infogreffe.fr/infogreffe/ficheIden...   \n",
       "3        NaN  https://www.infogreffe.fr/infogreffe/ficheIden...   \n",
       "4        NaN  https://www.infogreffe.fr/infogreffe/ficheIden...   \n",
       "\n",
       "   tranche_ca_millesime_1 tranche_ca_millesime_2  tranche_ca_millesime_3  \n",
       "0                     NaN                    NaN     C entre 82K et 250K  \n",
       "1                     NaN                    NaN                     NaN  \n",
       "2                E + d 1M               E + d 1M                E + d 1M  \n",
       "3                     NaN                    NaN      B entre 32K et 82K  \n",
       "4      B entre 32K et 82K     B entre 32K et 82K                     NaN  \n",
       "\n",
       "[5 rows x 41 columns]"
      ]
     },
     "execution_count": 4,
     "metadata": {},
     "output_type": "execute_result"
    }
   ],
   "source": [
    "# Overview of the dataframe\n",
    "data_2017.head()"
   ]
  },
  {
   "cell_type": "code",
   "execution_count": 5,
   "metadata": {},
   "outputs": [
    {
     "data": {
      "text/plain": [
       "(1154008, 41)"
      ]
     },
     "execution_count": 5,
     "metadata": {},
     "output_type": "execute_result"
    }
   ],
   "source": [
    "# Size of dataframe (nb of records and nb of features)\n",
    "data_2017.shape"
   ]
  },
  {
   "cell_type": "markdown",
   "metadata": {},
   "source": [
    "**INFO**\n",
    "\n",
    "In those records, over 1 Mio companies are listed, and through 41 columns information about the companies and their published results."
   ]
  },
  {
   "cell_type": "code",
   "execution_count": 6,
   "metadata": {},
   "outputs": [
    {
     "data": {
      "text/plain": [
       "Index(['Dénomination', 'Siren', 'Nic', 'Forme Juridique', 'Code APE',\n",
       "       'Libellé APE', 'Adresse', 'Code postal', 'Ville', 'Num. dept.',\n",
       "       'Département', 'Région', 'Code Greffe', 'Greffe',\n",
       "       'Date immatriculation', 'Date radiation', 'Statut', 'Geolocalisation',\n",
       "       'Date de publication', 'Millesime 1', 'Date de cloture exercice 1',\n",
       "       'Durée 1', 'CA 1', 'Résultat 1', 'Effectif 1', 'Millesime 2',\n",
       "       'Date de cloture exercice 2', 'Durée 2', 'CA 2', 'Résultat 2',\n",
       "       'Effectif 2', 'Millesime 3', 'Date de cloture exercice 3', 'Durée 3',\n",
       "       'CA 3', 'Résultat 3', 'Effectif 3', 'fiche_identite',\n",
       "       'tranche_ca_millesime_1', 'tranche_ca_millesime_2',\n",
       "       'tranche_ca_millesime_3'],\n",
       "      dtype='object')"
      ]
     },
     "execution_count": 6,
     "metadata": {},
     "output_type": "execute_result"
    }
   ],
   "source": [
    "# Name of columns and feature names\n",
    "data_2017.columns"
   ]
  },
  {
   "cell_type": "code",
   "execution_count": 7,
   "metadata": {},
   "outputs": [
    {
     "data": {
      "text/plain": [
       "Dénomination                   object\n",
       "Siren                          object\n",
       "Nic                           float64\n",
       "Forme Juridique                object\n",
       "Code APE                       object\n",
       "Libellé APE                    object\n",
       "Adresse                        object\n",
       "Code postal                    object\n",
       "Ville                          object\n",
       "Num. dept.                    float64\n",
       "Département                    object\n",
       "Région                         object\n",
       "Code Greffe                   float64\n",
       "Greffe                         object\n",
       "Date immatriculation           object\n",
       "Date radiation                 object\n",
       "Statut                         object\n",
       "Geolocalisation               float64\n",
       "Date de publication            object\n",
       "Millesime 1                   float64\n",
       "Date de cloture exercice 1     object\n",
       "Durée 1                       float64\n",
       "CA 1                          float64\n",
       "Résultat 1                    float64\n",
       "Effectif 1                    float64\n",
       "Millesime 2                   float64\n",
       "Date de cloture exercice 2     object\n",
       "Durée 2                       float64\n",
       "CA 2                          float64\n",
       "Résultat 2                    float64\n",
       "Effectif 2                    float64\n",
       "Millesime 3                    object\n",
       "Date de cloture exercice 3     object\n",
       "Durée 3                       float64\n",
       "CA 3                          float64\n",
       "Résultat 3                    float64\n",
       "Effectif 3                    float64\n",
       "fiche_identite                 object\n",
       "tranche_ca_millesime_1         object\n",
       "tranche_ca_millesime_2         object\n",
       "tranche_ca_millesime_3         object\n",
       "dtype: object"
      ]
     },
     "execution_count": 7,
     "metadata": {},
     "output_type": "execute_result"
    }
   ],
   "source": [
    "# Data types\n",
    "data_2017.dtypes"
   ]
  },
  {
   "cell_type": "code",
   "execution_count": 8,
   "metadata": {},
   "outputs": [
    {
     "data": {
      "text/plain": [
       "array([dtype('O'), dtype('O'), dtype('float64'), dtype('O'), dtype('O'),\n",
       "       dtype('O'), dtype('O'), dtype('O'), dtype('O'), dtype('float64'),\n",
       "       dtype('O'), dtype('O'), dtype('float64'), dtype('O'), dtype('O'),\n",
       "       dtype('O'), dtype('O'), dtype('float64'), dtype('O'),\n",
       "       dtype('float64'), dtype('O'), dtype('float64'), dtype('float64'),\n",
       "       dtype('float64'), dtype('float64'), dtype('float64'), dtype('O'),\n",
       "       dtype('float64'), dtype('float64'), dtype('float64'),\n",
       "       dtype('float64'), dtype('O'), dtype('O'), dtype('float64'),\n",
       "       dtype('float64'), dtype('float64'), dtype('float64'), dtype('O'),\n",
       "       dtype('O'), dtype('O'), dtype('O')], dtype=object)"
      ]
     },
     "execution_count": 8,
     "metadata": {},
     "output_type": "execute_result"
    }
   ],
   "source": [
    "np.array(data_2017.dtypes)"
   ]
  },
  {
   "cell_type": "markdown",
   "metadata": {},
   "source": [
    "**INFO**\n",
    "\n",
    "-> Some cleaning will need to be made as:\n",
    "\n",
    "Many columns have not the expected type:\n",
    "- dates are not dates\n",
    "- strings as objects\n",
    "- siren (company ID) as object instead of integer or string\n",
    "--> They will need to be cleaned to go further\n",
    "\n",
    "Some columns have (for this analysis) no real interest:\n",
    "- Nic, Adresse, Code postal, Code postal, Département, Région, Code Greffe, Greffe, Statut, Geolocalisation, fiche_identite, tranche_ca_millesime_1, tranche_ca_millesime_2, tranche_ca_millesime_3\n",
    "and will need to be removed"
   ]
  },
  {
   "cell_type": "code",
   "execution_count": 10,
   "metadata": {},
   "outputs": [
    {
     "name": "stdout",
     "output_type": "stream",
     "text": [
      "Geolocalisation               100.0\n",
      "Date radiation                100.0\n",
      "Effectif 1                     88.7\n",
      "Effectif 2                     83.3\n",
      "Effectif 3                     80.5\n",
      "CA 2                           58.6\n",
      "Résultat 2                     58.1\n",
      "CA 1                           57.8\n",
      "tranche_ca_millesime_2         57.8\n",
      "tranche_ca_millesime_1         57.1\n",
      "Résultat 1                     56.7\n",
      "CA 3                           53.6\n",
      "Résultat 3                     53.3\n",
      "tranche_ca_millesime_3         52.9\n",
      "Millesime 3                    21.1\n",
      "Durée 3                        21.1\n",
      "Date de cloture exercice 3     21.1\n",
      "Millesime 2                    12.9\n",
      "Date de cloture exercice 2     12.9\n",
      "Durée 2                        12.9\n",
      "Code APE                        2.1\n",
      "Libellé APE                     2.1\n",
      "Région                          1.4\n",
      "Département                     1.4\n",
      "Adresse                         0.8\n",
      "Num. dept.                      0.1\n",
      "Code postal                     0.1\n",
      "Ville                           0.1\n",
      "Nic                             0.0\n",
      "Forme Juridique                 0.0\n",
      "Siren                           0.0\n",
      "Date de cloture exercice 1      0.0\n",
      "Code Greffe                     0.0\n",
      "Greffe                          0.0\n",
      "Date immatriculation            0.0\n",
      "Statut                          0.0\n",
      "Date de publication             0.0\n",
      "Millesime 1                     0.0\n",
      "Durée 1                         0.0\n",
      "fiche_identite                  0.0\n",
      "Dénomination                    0.0\n",
      "dtype: float64\n"
     ]
    }
   ],
   "source": [
    "# How many NAs are there in the dataset across the features / columns\n",
    "nas = np.round(data_2017.isna().sum() / data_2017.shape[0] * 100,1)\n",
    "nas = nas.sort_values(ascending = False)\n",
    "print(nas)"
   ]
  },
  {
   "cell_type": "code",
   "execution_count": 9,
   "metadata": {},
   "outputs": [
    {
     "data": {
      "image/png": "[encoded data removed]",
      "text/plain": [
       "<Figure size 432x288 with 1 Axes>"
      ]
     },
     "metadata": {
      "needs_background": "light"
     },
     "output_type": "display_data"
    }
   ],
   "source": [
    "# Graphical visualization of NAs per column / feature\n",
    "plt.bar(np.array(data_2017.columns), nas);\n",
    "plt.xticks(rotation='vertical');\n",
    "plt.title(\"Share of NAs in % per feature / column\");\n",
    "plt.savefig('share_nas_columns_2017.png')"
   ]
  },
  {
   "cell_type": "markdown",
   "metadata": {},
   "source": [
    "**INFO**\n",
    "\n",
    "This data has many NAs and some columns have almost only NAs and no imputing then makes sense\n",
    "- Geolocalisation, Date radiation, Effectif 1, Effectif 2, Effectif 3\n",
    "\n",
    "Others have ca. 50% of NAs, imputation could be of interest, although probably not very meaningfull \n",
    "- CA 1, Résultat 1, CA 2, Résultat 2, CA 3, Résultat 3, tranche_ca_millesime_1, tranche_ca_millesime_2, tranche_ca_millesime_3"
   ]
  },
  {
   "cell_type": "code",
   "execution_count": 10,
   "metadata": {},
   "outputs": [
    {
     "name": "stdout",
     "output_type": "stream",
     "text": [
      "Nb of possible legal forms:  160\n",
      "Nb of possible business types:  1055\n"
     ]
    }
   ],
   "source": [
    "# Nb of possible values for different features\n",
    "print(\"Nb of possible legal forms: \", data_2017[\"Forme Juridique\"].nunique())\n",
    "print(\"Nb of possible business types: \", data_2017[\"Code APE\"].nunique())"
   ]
  },
  {
   "cell_type": "code",
   "execution_count": 11,
   "metadata": {},
   "outputs": [
    {
     "data": {
      "image/png": "[encoded data removed]",
      "text/plain": [
       "<Figure size 432x288 with 1 Axes>"
      ]
     },
     "metadata": {
      "needs_background": "light"
     },
     "output_type": "display_data"
    }
   ],
   "source": [
    "# Research into the legal forms and whether or not we can reduce the \"dimensionality\"\n",
    "legal_forms = data_2017.groupby(\"Forme Juridique\")[\"Siren\"].count().sort_values(ascending = False) / data_2017.shape[0] * 100\n",
    "plt.bar(legal_forms.index[:10], legal_forms[:10]);\n",
    "plt.xticks(rotation='vertical');\n",
    "plt.title(\"Proportion of companies per legal form (top 10)\");\n",
    "plt.savefig('share_legal_forms_2017.png')"
   ]
  },
  {
   "cell_type": "code",
   "execution_count": 12,
   "metadata": {},
   "outputs": [
    {
     "name": "stdout",
     "output_type": "stream",
     "text": [
      "Forme Juridique\n",
      "Societe a responsabilite limitee                           44.3\n",
      "Societe a responsabilite limitee a associe unique          24.0\n",
      "Societe par actions simplifiee                             16.4\n",
      "Societe par actions simplifiee a associe unique            12.6\n",
      "Societe anonyme                                             0.9\n",
      "Societe en nom collectif                                    0.6\n",
      "Societe a responsabilite limitee a capital variable         0.2\n",
      "Societe anonyme a conseil d'administration                  0.2\n",
      "Societe par actions simplifiee a capital variable           0.1\n",
      "Societe anonyme a directoire et conseil de surveillance     0.1\n",
      "Name: Siren, dtype: float64\n"
     ]
    }
   ],
   "source": [
    "# From the graph, one can also see that very few legal forms represent the most number of companies\n",
    "print(np.round(legal_forms[:10],1))"
   ]
  },
  {
   "cell_type": "code",
   "execution_count": 13,
   "metadata": {},
   "outputs": [],
   "source": [
    "# Wrt business types, through research the 1st 2 characters are likely sufficient for this project\n",
    "data_2017[\"bus_types\"] = data_2017[\"Code APE\"].apply(lambda x: str(x)[:2])"
   ]
  },
  {
   "cell_type": "code",
   "execution_count": 14,
   "metadata": {},
   "outputs": [
    {
     "data": {
      "image/png": "[encoded data removed]",
      "text/plain": [
       "<Figure size 432x288 with 1 Axes>"
      ]
     },
     "metadata": {
      "needs_background": "light"
     },
     "output_type": "display_data"
    }
   ],
   "source": [
    "bus_types = data_2017.groupby(\"bus_types\")[\"Siren\"].count().sort_values(ascending = False) / data_2017.shape[0] * 100\n",
    "plt.bar(bus_types.index, bus_types);\n",
    "plt.title(\"Share of nb of companies per business type / main activity code\");\n",
    "plt.xticks(rotation='vertical');\n",
    "plt.savefig(\"share_activities.png\")"
   ]
  },
  {
   "cell_type": "code",
   "execution_count": 15,
   "metadata": {},
   "outputs": [
    {
     "name": "stdout",
     "output_type": "stream",
     "text": [
      "top 10 business types / activities bus_types\n",
      "43    12.29\n",
      "47    11.02\n",
      "56     6.57\n",
      "46     6.29\n",
      "68     6.08\n",
      "70     5.73\n",
      "64     4.98\n",
      "45     3.70\n",
      "71     3.40\n",
      "96     3.06\n",
      "Name: Siren, dtype: float64\n",
      "There are 91 different 2 digits business types in the dataset\n"
     ]
    }
   ],
   "source": [
    "# Print most common business types & their share, as well as the nb of those\n",
    "print(\"top 10 business types / activities\", np.round(bus_types[:10],2))\n",
    "print(\"There are {} different 2 digits business types in the dataset\".format(len(bus_types)))"
   ]
  },
  {
   "cell_type": "markdown",
   "metadata": {},
   "source": [
    "**INFO**\n",
    "- Legal form: only 4 types of legal forms are of interest, the rest can be summed up in a category\n",
    "- All business types are of interest and can be kept as such (only first 2 characters)"
   ]
  },
  {
   "cell_type": "code",
   "execution_count": 16,
   "metadata": {},
   "outputs": [],
   "source": [
    "# Check if some import features have the correct information fed in"
   ]
  },
  {
   "cell_type": "code",
   "execution_count": 17,
   "metadata": {},
   "outputs": [
    {
     "data": {
      "text/plain": [
       "Millesime 1\n",
       "2017.0    1153463\n",
       "Name: Siren, dtype: int64"
      ]
     },
     "execution_count": 17,
     "metadata": {},
     "output_type": "execute_result"
    }
   ],
   "source": [
    "# Millesime 1: first fiscal year\n",
    "data_2017.groupby(\"Millesime 1\")['Siren'].count()"
   ]
  },
  {
   "cell_type": "code",
   "execution_count": 18,
   "metadata": {},
   "outputs": [
    {
     "data": {
      "text/plain": [
       "Millesime 2\n",
       "0.0             1\n",
       "1.0             1\n",
       "6.0             1\n",
       "15.0            1\n",
       "63.0            1\n",
       "603.0           1\n",
       "2016.0    1005472\n",
       "Name: Siren, dtype: int64"
      ]
     },
     "execution_count": 18,
     "metadata": {},
     "output_type": "execute_result"
    }
   ],
   "source": [
    "# Millesime 2: second fiscal year\n",
    "data_2017.groupby(\"Millesime 2\")['Siren'].count()"
   ]
  },
  {
   "cell_type": "code",
   "execution_count": 19,
   "metadata": {},
   "outputs": [
    {
     "data": {
      "text/plain": [
       "Millesime 3\n",
       "0.0               1\n",
       "63.0              1\n",
       "2015.0       807657\n",
       "20455.0           1\n",
       "30847.0           1\n",
       "2015         103131\n",
       "3313              1\n",
       "686377000         1\n",
       "CdcRes            8\n",
       "Name: Siren, dtype: int64"
      ]
     },
     "execution_count": 19,
     "metadata": {},
     "output_type": "execute_result"
    }
   ],
   "source": [
    "# Millesime 3: third fiscal year\n",
    "data_2017.groupby(\"Millesime 3\")['Siren'].count()"
   ]
  },
  {
   "cell_type": "markdown",
   "metadata": {},
   "source": [
    "##### 1.2.2 so called \"Radiations\"\n",
    "\n",
    "This data lists all companies that were \"radiated\" in 2019, e.g. that were suppressed from the register in that year. All information is also available (some redundancies with the financial information file)"
   ]
  },
  {
   "cell_type": "code",
   "execution_count": 20,
   "metadata": {},
   "outputs": [
    {
     "data": {
      "text/plain": [
       "(120463, 29)"
      ]
     },
     "execution_count": 20,
     "metadata": {},
     "output_type": "execute_result"
    }
   ],
   "source": [
    "# Size of data file\n",
    "radiations_2019.shape"
   ]
  },
  {
   "cell_type": "code",
   "execution_count": 21,
   "metadata": {},
   "outputs": [
    {
     "data": {
      "text/html": [
       "<div>\n",
       "<style scoped>\n",
       "    .dataframe tbody tr th:only-of-type {\n",
       "        vertical-align: middle;\n",
       "    }\n",
       "\n",
       "    .dataframe tbody tr th {\n",
       "        vertical-align: top;\n",
       "    }\n",
       "\n",
       "    .dataframe thead th {\n",
       "        text-align: right;\n",
       "    }\n",
       "</style>\n",
       "<table border=\"1\" class=\"dataframe\">\n",
       "  <thead>\n",
       "    <tr style=\"text-align: right;\">\n",
       "      <th></th>\n",
       "      <th>Dénomination</th>\n",
       "      <th>Siren</th>\n",
       "      <th>Nic</th>\n",
       "      <th>Forme Juridique</th>\n",
       "      <th>Code APE</th>\n",
       "      <th>Secteur d'activité</th>\n",
       "      <th>Adresse</th>\n",
       "      <th>Code postal</th>\n",
       "      <th>Ville</th>\n",
       "      <th>Num. dept.</th>\n",
       "      <th>...</th>\n",
       "      <th>Nom commercial</th>\n",
       "      <th>Date immatriculation origine</th>\n",
       "      <th>Sigle</th>\n",
       "      <th>Devise</th>\n",
       "      <th>Durée</th>\n",
       "      <th>Date cloture 1er exercice</th>\n",
       "      <th>Date arreté des comptes</th>\n",
       "      <th>Etat</th>\n",
       "      <th>etat_pub</th>\n",
       "      <th>fiche_identite</th>\n",
       "    </tr>\n",
       "  </thead>\n",
       "  <tbody>\n",
       "    <tr>\n",
       "      <th>0</th>\n",
       "      <td>A PA PEUR OFFICIEL FRANCE</td>\n",
       "      <td>524279551</td>\n",
       "      <td>13.0</td>\n",
       "      <td>Societe a responsabilite limitee a associe unique</td>\n",
       "      <td>4771Z</td>\n",
       "      <td>Commerce de detail d'habillement en magasin sp...</td>\n",
       "      <td>4 RUE CIAPETTA</td>\n",
       "      <td>06500</td>\n",
       "      <td>MENTON</td>\n",
       "      <td>6.0</td>\n",
       "      <td>...</td>\n",
       "      <td>NaN</td>\n",
       "      <td>NaN</td>\n",
       "      <td>APPOF</td>\n",
       "      <td>Euros</td>\n",
       "      <td>NaN</td>\n",
       "      <td>12/31/2011</td>\n",
       "      <td>31/12</td>\n",
       "      <td>Radié</td>\n",
       "      <td>A</td>\n",
       "      <td>https://www.infogreffe.fr/infogreffe/ficheIden...</td>\n",
       "    </tr>\n",
       "    <tr>\n",
       "      <th>1</th>\n",
       "      <td>ALUMINIUM VERANDAS PLAISIR</td>\n",
       "      <td>400088621</td>\n",
       "      <td>18.0</td>\n",
       "      <td>Societe a responsabilite limitee</td>\n",
       "      <td>4332B</td>\n",
       "      <td>Travaux de menuiserie metallique et serrurerie</td>\n",
       "      <td>79 RUE DE LA GARE</td>\n",
       "      <td>78370</td>\n",
       "      <td>PLAISIR</td>\n",
       "      <td>78.0</td>\n",
       "      <td>...</td>\n",
       "      <td>NaN</td>\n",
       "      <td>NaN</td>\n",
       "      <td>AVP</td>\n",
       "      <td>Euros</td>\n",
       "      <td>NaN</td>\n",
       "      <td>NaN</td>\n",
       "      <td>31/12</td>\n",
       "      <td>Radié</td>\n",
       "      <td>A</td>\n",
       "      <td>https://www.infogreffe.fr/infogreffe/ficheIden...</td>\n",
       "    </tr>\n",
       "    <tr>\n",
       "      <th>2</th>\n",
       "      <td>AUTUMN FUN SARL</td>\n",
       "      <td>529862427</td>\n",
       "      <td>26.0</td>\n",
       "      <td>Societe a responsabilite limitee</td>\n",
       "      <td>7410Z</td>\n",
       "      <td>Activites specialisees de design</td>\n",
       "      <td>21 PLACE DE LA REPUBLIQUE</td>\n",
       "      <td>75003</td>\n",
       "      <td>PARIS</td>\n",
       "      <td>75.0</td>\n",
       "      <td>...</td>\n",
       "      <td>NaN</td>\n",
       "      <td>NaN</td>\n",
       "      <td>NaN</td>\n",
       "      <td>Euros</td>\n",
       "      <td>NaN</td>\n",
       "      <td>12/31/2011</td>\n",
       "      <td>31/12</td>\n",
       "      <td>Radié</td>\n",
       "      <td>A</td>\n",
       "      <td>https://www.infogreffe.fr/infogreffe/ficheIden...</td>\n",
       "    </tr>\n",
       "    <tr>\n",
       "      <th>3</th>\n",
       "      <td>AUX DELICES D'ARVOR</td>\n",
       "      <td>395253560</td>\n",
       "      <td>27.0</td>\n",
       "      <td>Societe a responsabilite limitee a associe unique</td>\n",
       "      <td>1071C</td>\n",
       "      <td>Boulangerie et boulangerie-patisserie</td>\n",
       "      <td>RUE ROBERT SCHUMAN</td>\n",
       "      <td>56100</td>\n",
       "      <td>LORIENT</td>\n",
       "      <td>56.0</td>\n",
       "      <td>...</td>\n",
       "      <td>NaN</td>\n",
       "      <td>NaN</td>\n",
       "      <td>NaN</td>\n",
       "      <td>Euros</td>\n",
       "      <td>NaN</td>\n",
       "      <td>NaN</td>\n",
       "      <td>30/6</td>\n",
       "      <td>Radié</td>\n",
       "      <td>A</td>\n",
       "      <td>https://www.infogreffe.fr/infogreffe/ficheIden...</td>\n",
       "    </tr>\n",
       "    <tr>\n",
       "      <th>4</th>\n",
       "      <td>BATIMENT RENOVATION ELECTRICITE</td>\n",
       "      <td>421282286</td>\n",
       "      <td>10.0</td>\n",
       "      <td>Societe a responsabilite limitee</td>\n",
       "      <td>4120A</td>\n",
       "      <td>Construction de maisons individuelles</td>\n",
       "      <td>37 RUE D AMSTERDAM</td>\n",
       "      <td>75008</td>\n",
       "      <td>PARIS</td>\n",
       "      <td>75.0</td>\n",
       "      <td>...</td>\n",
       "      <td>NaN</td>\n",
       "      <td>NaN</td>\n",
       "      <td>B R E</td>\n",
       "      <td>Euros</td>\n",
       "      <td>NaN</td>\n",
       "      <td>NaN</td>\n",
       "      <td>31/12</td>\n",
       "      <td>Radié</td>\n",
       "      <td>A</td>\n",
       "      <td>https://www.infogreffe.fr/infogreffe/ficheIden...</td>\n",
       "    </tr>\n",
       "  </tbody>\n",
       "</table>\n",
       "<p>5 rows × 29 columns</p>\n",
       "</div>"
      ],
      "text/plain": [
       "                      Dénomination      Siren   Nic  \\\n",
       "0        A PA PEUR OFFICIEL FRANCE  524279551  13.0   \n",
       "1       ALUMINIUM VERANDAS PLAISIR  400088621  18.0   \n",
       "2                  AUTUMN FUN SARL  529862427  26.0   \n",
       "3              AUX DELICES D'ARVOR  395253560  27.0   \n",
       "4  BATIMENT RENOVATION ELECTRICITE  421282286  10.0   \n",
       "\n",
       "                                     Forme Juridique Code APE  \\\n",
       "0  Societe a responsabilite limitee a associe unique    4771Z   \n",
       "1                   Societe a responsabilite limitee    4332B   \n",
       "2                   Societe a responsabilite limitee    7410Z   \n",
       "3  Societe a responsabilite limitee a associe unique    1071C   \n",
       "4                   Societe a responsabilite limitee    4120A   \n",
       "\n",
       "                                  Secteur d'activité  \\\n",
       "0  Commerce de detail d'habillement en magasin sp...   \n",
       "1     Travaux de menuiserie metallique et serrurerie   \n",
       "2                   Activites specialisees de design   \n",
       "3              Boulangerie et boulangerie-patisserie   \n",
       "4              Construction de maisons individuelles   \n",
       "\n",
       "                     Adresse Code postal    Ville  Num. dept.  ...  \\\n",
       "0             4 RUE CIAPETTA       06500   MENTON         6.0  ...   \n",
       "1          79 RUE DE LA GARE       78370  PLAISIR        78.0  ...   \n",
       "2  21 PLACE DE LA REPUBLIQUE       75003    PARIS        75.0  ...   \n",
       "3         RUE ROBERT SCHUMAN       56100  LORIENT        56.0  ...   \n",
       "4         37 RUE D AMSTERDAM       75008    PARIS        75.0  ...   \n",
       "\n",
       "  Nom commercial Date immatriculation origine  Sigle Devise Durée  \\\n",
       "0            NaN                          NaN  APPOF  Euros   NaN   \n",
       "1            NaN                          NaN    AVP  Euros   NaN   \n",
       "2            NaN                          NaN    NaN  Euros   NaN   \n",
       "3            NaN                          NaN    NaN  Euros   NaN   \n",
       "4            NaN                          NaN  B R E  Euros   NaN   \n",
       "\n",
       "  Date cloture 1er exercice Date arreté des comptes   Etat etat_pub  \\\n",
       "0                12/31/2011                   31/12  Radié        A   \n",
       "1                       NaN                   31/12  Radié        A   \n",
       "2                12/31/2011                   31/12  Radié        A   \n",
       "3                       NaN                    30/6  Radié        A   \n",
       "4                       NaN                   31/12  Radié        A   \n",
       "\n",
       "                                      fiche_identite  \n",
       "0  https://www.infogreffe.fr/infogreffe/ficheIden...  \n",
       "1  https://www.infogreffe.fr/infogreffe/ficheIden...  \n",
       "2  https://www.infogreffe.fr/infogreffe/ficheIden...  \n",
       "3  https://www.infogreffe.fr/infogreffe/ficheIden...  \n",
       "4  https://www.infogreffe.fr/infogreffe/ficheIden...  \n",
       "\n",
       "[5 rows x 29 columns]"
      ]
     },
     "execution_count": 21,
     "metadata": {},
     "output_type": "execute_result"
    }
   ],
   "source": [
    "# Overview of dataframe\n",
    "radiations_2019.head()"
   ]
  },
  {
   "cell_type": "code",
   "execution_count": 22,
   "metadata": {},
   "outputs": [
    {
     "data": {
      "text/plain": [
       "Index(['Dénomination', 'Siren', 'Nic', 'Forme Juridique', 'Code APE',\n",
       "       'Secteur d'activité', 'Adresse', 'Code postal', 'Ville', 'Num. dept.',\n",
       "       'Département', 'Région', 'Code Greffe', 'Greffe',\n",
       "       'Date immatriculation', 'Date radiation', 'Statut', 'Geolocalisation',\n",
       "       'Date de publication', 'Nom commercial', 'Date immatriculation origine',\n",
       "       'Sigle', 'Devise', 'Durée', 'Date cloture 1er exercice',\n",
       "       'Date arreté des comptes', 'Etat', 'etat_pub', 'fiche_identite'],\n",
       "      dtype='object')"
      ]
     },
     "execution_count": 22,
     "metadata": {},
     "output_type": "execute_result"
    }
   ],
   "source": [
    "# Columns / feature names\n",
    "radiations_2019.columns"
   ]
  },
  {
   "cell_type": "code",
   "execution_count": 23,
   "metadata": {},
   "outputs": [
    {
     "data": {
      "text/plain": [
       "Dénomination                     object\n",
       "Siren                             int64\n",
       "Nic                             float64\n",
       "Forme Juridique                  object\n",
       "Code APE                         object\n",
       "Secteur d'activité               object\n",
       "Adresse                          object\n",
       "Code postal                      object\n",
       "Ville                            object\n",
       "Num. dept.                      float64\n",
       "Département                      object\n",
       "Région                           object\n",
       "Code Greffe                       int64\n",
       "Greffe                           object\n",
       "Date immatriculation             object\n",
       "Date radiation                   object\n",
       "Statut                           object\n",
       "Geolocalisation                  object\n",
       "Date de publication              object\n",
       "Nom commercial                  float64\n",
       "Date immatriculation origine     object\n",
       "Sigle                            object\n",
       "Devise                           object\n",
       "Durée                           float64\n",
       "Date cloture 1er exercice        object\n",
       "Date arreté des comptes          object\n",
       "Etat                             object\n",
       "etat_pub                         object\n",
       "fiche_identite                   object\n",
       "dtype: object"
      ]
     },
     "execution_count": 23,
     "metadata": {},
     "output_type": "execute_result"
    }
   ],
   "source": [
    "# Data types of columns / features\n",
    "radiations_2019.dtypes"
   ]
  },
  {
   "cell_type": "code",
   "execution_count": 24,
   "metadata": {},
   "outputs": [],
   "source": [
    "# Check when were those companies created\n",
    "radiations_2019[\"yob\"] = pd.to_datetime(radiations_2019['Date immatriculation origine']).apply(lambda x: x.year)"
   ]
  },
  {
   "cell_type": "code",
   "execution_count": 25,
   "metadata": {},
   "outputs": [
    {
     "data": {
      "image/png": "[encoded data removed]",
      "text/plain": [
       "<Figure size 432x288 with 1 Axes>"
      ]
     },
     "metadata": {
      "needs_background": "light"
     },
     "output_type": "display_data"
    }
   ],
   "source": [
    "# Plot when those companies were created in % of all radiated companies\n",
    "rads_year = radiations_2019.groupby(\"yob\")[\"Siren\"].count() / radiations_2019.shape[0] * 100\n",
    "plt.bar(rads_year.index.astype(int), rads_year);\n",
    "plt.title(\"Proportions of radiated companies per year of origin\");\n",
    "plt.savefig(\"proportions_radiations_per_year_of_origin.png\")"
   ]
  },
  {
   "cell_type": "markdown",
   "metadata": {},
   "source": [
    "**INFO**\n",
    "\n",
    "From the radiations file I only need to match the company ID and the radiation date to the main file (financial information)"
   ]
  },
  {
   "cell_type": "markdown",
   "metadata": {},
   "source": [
    "### Part 2: ETL Pipeline - data cleaning, pre-processing, feature engineering"
   ]
  },
  {
   "cell_type": "markdown",
   "metadata": {},
   "source": [
    "#### 3.1 Data cleaning and processing"
   ]
  },
  {
   "cell_type": "code",
   "execution_count": 26,
   "metadata": {},
   "outputs": [],
   "source": [
    "# Remove uninteresting and not usable information\n",
    "col_to_keep = ['Dénomination', 'Siren', 'Forme Juridique', 'Code APE', 'Num. dept.', 'Date immatriculation', \n",
    "               'Date de publication', 'Date de cloture exercice 1', 'Date de cloture exercice 2', \n",
    "               'Date de cloture exercice 3', 'CA 1']\n",
    "\n",
    "col_dates = ['Date immatriculation', 'Date de publication', 'Date de cloture exercice 1', \n",
    "             'Date de cloture exercice 2', 'Date de cloture exercice 3']\n"
   ]
  },
  {
   "cell_type": "code",
   "execution_count": 27,
   "metadata": {},
   "outputs": [],
   "source": [
    "def clean_process(df, df_rad, merge_df = True):\n",
    "    '''\n",
    "    This function cleans the financial information data frame across many steps\n",
    "    \n",
    "    INPUT: \n",
    "    df = DataFrame to clean\n",
    "    col_to_keep = columns to keep in the dataframe\n",
    "    col_dates = columns that need to be converted into a date format\n",
    "    \n",
    "    RETURN:\n",
    "    df = cleaned dataframe\n",
    "       \n",
    "    '''\n",
    "    \n",
    "    # Assign inputs\n",
    "    df = df\n",
    "    df_rad = df_rad\n",
    "    \n",
    "    col_to_keep = ['Dénomination', 'Siren', 'Forme Juridique', 'Code APE', 'Num. dept.', 'Date immatriculation', \n",
    "               'Date de publication', 'Date de cloture exercice 1', 'Date de cloture exercice 2', \n",
    "               'Date de cloture exercice 3', 'CA 1']\n",
    "\n",
    "    col_dates = ['Date immatriculation', 'Date de publication', 'Date de cloture exercice 1', \n",
    "             'Date de cloture exercice 2', 'Date de cloture exercice 3']\n",
    "    \n",
    "    # Retain columns for pre-processing\n",
    "    df = df.loc[:, col_to_keep]\n",
    "    \n",
    "    # Convert date columns into dateformat\n",
    "    for col in col_dates:\n",
    "        df[col] = pd.to_datetime(df[col])\n",
    "        \n",
    "    # Record in new column if financial information (turnover) was published on last year\n",
    "    df['publish'] = df['CA 1'].isna().astype(int)\n",
    "    df.drop(\"CA 1\", axis = 1, inplace = True)\n",
    "    \n",
    "    # Drop all rows with at least one NA; I still keep most of the information available\n",
    "    df.dropna(axis = 0, how = 'any', inplace = True) \n",
    "    \n",
    "    # Calculate delay between end of fiscal year and date of publishing\n",
    "    df[\"delay\"] = df[\"Date de publication\"] - df[\"Date de cloture exercice 1\"]\n",
    "    df.delay = df.delay.apply(lambda x: int(x.days))\n",
    "    \n",
    "    # Calculate age of company in 2019 when radiations are recorded\n",
    "    df['yob'] = df[\"Date immatriculation\"].apply(lambda x: x.year)\n",
    "    \n",
    "    # Remove columns after pre-processing\n",
    "    df.drop(['Dénomination', 'Date immatriculation', 'Date de publication', 'Date de cloture exercice 1', \n",
    "                  'Date de cloture exercice 2', 'Date de cloture exercice 3'], axis = 1, inplace = True)\n",
    "    \n",
    "    # Convert Siren into integer to merge with other information\n",
    "    df.Siren = df.Siren.astype(int)\n",
    "    \n",
    "    # Merge information with radiations file if dataframe is there and merge_df == True\n",
    "    if merge_df == False:\n",
    "        \n",
    "        df_merge = df\n",
    "        \n",
    "    else:\n",
    "                \n",
    "        df_rad = df_rad.iloc[:, 1:3]\n",
    "        df_merge = df.merge(df_rad, how = 'left', on = 'Siren')\n",
    "    \n",
    "        # indicate radiation\n",
    "        df_merge[\"rad\"] = 1 - df_merge[\"Nic\"].isna().astype(int)\n",
    "        \n",
    "        # remove last not interesting column\n",
    "        df_merge.drop(\"Nic\", axis = 1, inplace = True)\n",
    "    \n",
    "    \n",
    "    # format column names\n",
    "    col = np.array(df_merge.columns)\n",
    "    new_col = []\n",
    "    for co in col:\n",
    "        new_col.append(co.lower().replace(\" \", \"_\").replace(\".\", \"\"))\n",
    "    df_merge.columns = new_col\n",
    "    \n",
    "    # Create a feature with the age in years of the company\n",
    "    df_merge[\"age\"] = df_merge[\"yob\"].apply(lambda x: int(2019 - x))\n",
    "    df_merge.drop(\"yob\", axis = 1, inplace = True)\n",
    "    \n",
    "    # Convert department number into an integer\n",
    "    df_merge.num_dept = df_merge.num_dept.astype(int)\n",
    "    \n",
    "    # Transform business type into a new APE code \n",
    "    df_merge.code_ape = df_merge.code_ape.astype(str)\n",
    "    df_merge[\"new_ape\"] = df_merge[\"code_ape\"].apply(lambda x: str(x)[:2])\n",
    "    df_merge.drop([\"code_ape\"], axis = 1, inplace = True)\n",
    "    \n",
    "    # Keep only the most important legal forms\n",
    "    legal_form_to_keep = df_merge.groupby(\"forme_juridique\")[\"age\"].count().sort_values(ascending = False)[:4]\n",
    "    legal_form_to_keep = np.array(legal_form_to_keep.index)\n",
    "    df_merge[\"legal_form_simple\"] = df_merge[\"forme_juridique\"].apply(lambda x: x if x in legal_form_to_keep else \"others\")\n",
    "    df_merge.drop([\"forme_juridique\"], axis = 1, inplace = True)\n",
    "    \n",
    "    # df_merge.drop(\"radiation_2019\", axis = 1, inplace = True)\n",
    "    \n",
    "    # Scale delay and age\n",
    "    ## Look at use of scaler outside of function\n",
    "    # df_merge[\"delay_scaled\"] = df_merge[\"delay\"] / df_merge[\"delay\"].max()\n",
    "    # df_merge[\"age_scaled\"] = df_merge[\"age\"] / df_2017_merge[\"age\"].max()\n",
    "    # df_merge.drop([\"age\", \"delay\"], axis = 1, inplace = True)\n",
    "    \n",
    "    # Hot encode data\n",
    "    df_final = pd.get_dummies(df_merge, columns=['num_dept', 'new_ape', 'legal_form_simple'], \n",
    "                             drop_first = True, prefix=['num_dept', 'new_ape', 'legal_form_simple'])\n",
    "\n",
    "    \n",
    "    return df_final"
   ]
  },
  {
   "cell_type": "code",
   "execution_count": 28,
   "metadata": {},
   "outputs": [],
   "source": [
    "# Transform data using function\n",
    "df_2017_19 = clean_process(data_2017, radiations_2019)"
   ]
  },
  {
   "cell_type": "code",
   "execution_count": 29,
   "metadata": {},
   "outputs": [
    {
     "name": "stderr",
     "output_type": "stream",
     "text": [
      "/Applications/anaconda3/lib/python3.7/site-packages/IPython/core/interactiveshell.py:3044: DtypeWarning: Columns (1,15,31) have mixed types. Specify dtype option on import or set low_memory=False.\n",
      "  interactivity=interactivity, compiler=compiler, result=result)\n"
     ]
    }
   ],
   "source": [
    "# Process additional years for later analysis\n",
    "data_2015 = pd.read_csv(\"chiffres-cles-2015.csv\", sep = \";\")\n",
    "data_2016 = pd.read_csv(\"chiffres-cles-2016.csv\", sep = \";\")\n",
    "data_2018 = pd.read_csv(\"chiffres-cles-2018.csv\", sep = \";\")"
   ]
  },
  {
   "cell_type": "code",
   "execution_count": 30,
   "metadata": {},
   "outputs": [],
   "source": [
    "# Load radiations in other years\n",
    "radiations_2018 = pd.read_csv(\"societes-radiees-2018.csv\", sep = \";\")\n",
    "radiations_2017 = pd.read_csv(\"entreprises-radiees-2017.csv\", sep = \";\")"
   ]
  },
  {
   "cell_type": "code",
   "execution_count": 31,
   "metadata": {},
   "outputs": [],
   "source": [
    "# Process other years similarly\n",
    "df_2018 = clean_process(data_2018, None, False)"
   ]
  },
  {
   "cell_type": "code",
   "execution_count": 32,
   "metadata": {},
   "outputs": [],
   "source": [
    "df_2016_18 = clean_process(data_2016, radiations_2018)"
   ]
  },
  {
   "cell_type": "markdown",
   "metadata": {},
   "source": [
    "#### 3.2 Load"
   ]
  },
  {
   "cell_type": "code",
   "execution_count": 33,
   "metadata": {},
   "outputs": [],
   "source": [
    "# Load data into a new CSV\n",
    "df_2017_19.to_csv(\"cleaned_data_2017.csv\", sep = \";\")"
   ]
  },
  {
   "cell_type": "code",
   "execution_count": 34,
   "metadata": {},
   "outputs": [],
   "source": [
    "df_2016_18.to_csv(\"cleaned_data_2016.csv\", sep = \";\")"
   ]
  },
  {
   "cell_type": "code",
   "execution_count": 35,
   "metadata": {},
   "outputs": [],
   "source": [
    "df_2018.to_csv(\"cleaned_data_2018.csv\", sep = \";\")"
   ]
  }
 ],
 "metadata": {
  "kernelspec": {
   "display_name": "Python 3",
   "language": "python",
   "name": "python3"
  },
  "language_info": {
   "codemirror_mode": {
    "name": "ipython",
    "version": 3
   },
   "file_extension": ".py",
   "mimetype": "text/x-python",
   "name": "python",
   "nbconvert_exporter": "python",
   "pygments_lexer": "ipython3",
   "version": "3.7.2"
  }
 },
 "nbformat": 4,
 "nbformat_minor": 2
}
